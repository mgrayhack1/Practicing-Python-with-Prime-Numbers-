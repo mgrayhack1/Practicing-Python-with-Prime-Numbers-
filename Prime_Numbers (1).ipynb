{
 "cells": [
  {
   "cell_type": "code",
   "execution_count": 4,
   "id": "c3c2a7d0",
   "metadata": {},
   "outputs": [],
   "source": [
    "#working on determinig what numbers are prime \n",
    "#1st practice\n",
    "def is_prime_practice(n):\n",
    "    sum_print = n*3\n",
    "    return 3 < sum_print\n",
    "    "
   ]
  },
  {
   "cell_type": "code",
   "execution_count": 5,
   "id": "5dc1ad09",
   "metadata": {},
   "outputs": [
    {
     "data": {
      "text/plain": [
       "True"
      ]
     },
     "execution_count": 5,
     "metadata": {},
     "output_type": "execute_result"
    }
   ],
   "source": [
    "is_prime_practice(3)"
   ]
  },
  {
   "cell_type": "code",
   "execution_count": 15,
   "id": "21986cfd",
   "metadata": {},
   "outputs": [],
   "source": [
    "def is_prime_t(n):\n",
    "    total = 0\n",
    "    for x in range(10):\n",
    "        total += n\n",
    "    print(total)"
   ]
  },
  {
   "cell_type": "code",
   "execution_count": 16,
   "id": "c3488abd",
   "metadata": {},
   "outputs": [
    {
     "name": "stdout",
     "output_type": "stream",
     "text": [
      "33\n"
     ]
    }
   ],
   "source": [
    "is_prime_t(3)"
   ]
  },
  {
   "cell_type": "code",
   "execution_count": 91,
   "id": "620a5838",
   "metadata": {},
   "outputs": [],
   "source": [
    "def is_prime(n):\n",
    "    total = 0\n",
    "    if n <= 1:\n",
    "        return False\n",
    "    for x in range(1,n+1):\n",
    "        if  n % x == 0:\n",
    "            total += 1\n",
    "    return total == 2\n",
    "       "
   ]
  },
  {
   "cell_type": "code",
   "execution_count": 108,
   "id": "c948ebc2",
   "metadata": {},
   "outputs": [
    {
     "data": {
      "text/plain": [
       "True"
      ]
     },
     "execution_count": 108,
     "metadata": {},
     "output_type": "execute_result"
    }
   ],
   "source": [
    "is_prime(11)"
   ]
  },
  {
   "cell_type": "code",
   "execution_count": 97,
   "id": "74b6c9a5",
   "metadata": {},
   "outputs": [
    {
     "ename": "TypeError",
     "evalue": "'<=' not supported between instances of 'range' and 'int'",
     "output_type": "error",
     "traceback": [
      "\u001b[1;31m---------------------------------------------------------------------------\u001b[0m",
      "\u001b[1;31mTypeError\u001b[0m                                 Traceback (most recent call last)",
      "Cell \u001b[1;32mIn[97], line 2\u001b[0m\n\u001b[0;32m      1\u001b[0m n \u001b[38;5;241m=\u001b[39m \u001b[38;5;28mrange\u001b[39m(\u001b[38;5;241m100\u001b[39m,\u001b[38;5;241m151\u001b[39m)\n\u001b[1;32m----> 2\u001b[0m \u001b[43mis_prime\u001b[49m\u001b[43m(\u001b[49m\u001b[43mn\u001b[49m\u001b[43m)\u001b[49m\n",
      "Cell \u001b[1;32mIn[91], line 3\u001b[0m, in \u001b[0;36mis_prime\u001b[1;34m(n)\u001b[0m\n\u001b[0;32m      1\u001b[0m \u001b[38;5;28;01mdef\u001b[39;00m \u001b[38;5;21mis_prime\u001b[39m(n):\n\u001b[0;32m      2\u001b[0m     total \u001b[38;5;241m=\u001b[39m \u001b[38;5;241m0\u001b[39m\n\u001b[1;32m----> 3\u001b[0m     \u001b[38;5;28;01mif\u001b[39;00m \u001b[43mn\u001b[49m\u001b[43m \u001b[49m\u001b[38;5;241;43m<\u001b[39;49m\u001b[38;5;241;43m=\u001b[39;49m\u001b[43m \u001b[49m\u001b[38;5;241;43m1\u001b[39;49m:\n\u001b[0;32m      4\u001b[0m         \u001b[38;5;28;01mreturn\u001b[39;00m \u001b[38;5;28;01mFalse\u001b[39;00m\n\u001b[0;32m      5\u001b[0m     \u001b[38;5;28;01mfor\u001b[39;00m x \u001b[38;5;129;01min\u001b[39;00m \u001b[38;5;28mrange\u001b[39m(\u001b[38;5;241m1\u001b[39m,n\u001b[38;5;241m+\u001b[39m\u001b[38;5;241m1\u001b[39m):\n",
      "\u001b[1;31mTypeError\u001b[0m: '<=' not supported between instances of 'range' and 'int'"
     ]
    }
   ],
   "source": [
    "n = list((100,151))\n",
    "is_prime(n)"
   ]
  },
  {
   "cell_type": "code",
   "execution_count": 118,
   "id": "ed523c11",
   "metadata": {},
   "outputs": [
    {
     "name": "stdout",
     "output_type": "stream",
     "text": [
      "[100, 101, 102, 103, 104, 105, 106, 107, 108, 109, 110, 111, 112, 113, 114, 115, 116, 117, 118, 119, 120, 121, 122, 123, 124, 125, 126, 127, 128, 129, 130, 131, 132, 133, 134, 135, 136, 137, 138, 139, 140, 141, 142, 143, 144, 145, 146, 147, 148, 149, 150, 151]\n"
     ]
    }
   ],
   "source": [
    "my_list = list(range(100, 152))\n",
    "print(my_list)\n",
    "def check_prime_list(my_list):\n",
    "    result = {}\n",
    "    for num in my_list:\n",
    "        result[num] = is_prime(num)\n",
    "    return "
   ]
  },
  {
   "cell_type": "code",
   "execution_count": 109,
   "id": "c50dbba9",
   "metadata": {},
   "outputs": [
    {
     "data": {
      "text/plain": [
       "True"
      ]
     },
     "execution_count": 109,
     "metadata": {},
     "output_type": "execute_result"
    }
   ],
   "source": [
    "is_prime(827)"
   ]
  },
  {
   "cell_type": "code",
   "execution_count": 117,
   "id": "4d1a52d9",
   "metadata": {},
   "outputs": [
    {
     "name": "stdout",
     "output_type": "stream",
     "text": [
      "[15, 16, 17, 18, 19, 20, 21, 22, 23, 24, 25]\n"
     ]
    }
   ],
   "source": [
    "n = range(15,26)\n",
    "print(list(n))"
   ]
  },
  {
   "cell_type": "code",
   "execution_count": 121,
   "id": "6f1418b4",
   "metadata": {},
   "outputs": [
    {
     "name": "stdout",
     "output_type": "stream",
     "text": [
      "326 is not a prime number.\n",
      "303 is not a prime number.\n",
      "313 is a prime number.\n",
      "351 is not a prime number.\n"
     ]
    }
   ],
   "source": [
    "numbers_to_check = [326, 303, 313, 351]\n",
    "prime_results = {num: is_prime(num) for num in numbers_to_check}\n",
    "for num, is_prime_result in prime_results.items():\n",
    "    if is_prime_result:\n",
    "        print(f\"{num} is a prime number.\")\n",
    "    else:\n",
    "        print(f\"{num} is not a prime number.\")\n"
   ]
  },
  {
   "cell_type": "code",
   "execution_count": 126,
   "id": "1a4c4621",
   "metadata": {},
   "outputs": [
    {
     "name": "stdout",
     "output_type": "stream",
     "text": [
      "[100, 101, 102, 103, 104, 105, 106, 107, 108, 109, 110, 111, 112, 113, 114, 115, 116, 117, 118, 119, 120, 121, 122, 123, 124, 125, 126, 127, 128, 129, 130, 131, 132, 133, 134, 135, 136, 137, 138, 139, 140, 141, 142, 143, 144, 145, 146, 147, 148, 149, 150, 151]\n"
     ]
    }
   ],
   "source": [
    "\n",
    "#Consider the range of 100 to 151 inclusive\n",
    "numbers_to_check = list(range(100,152))\n",
    "\n",
    "print(numbers_to_check)\n",
    "      "
   ]
  },
  {
   "cell_type": "code",
   "execution_count": 127,
   "id": "934e7436",
   "metadata": {},
   "outputs": [
    {
     "name": "stdout",
     "output_type": "stream",
     "text": [
      "11\n"
     ]
    }
   ],
   "source": [
    "prime_results = {num: is_prime(num) for num in numbers_to_check}\n",
    "total = 0\n",
    "for num, is_prime_result in prime_results.items():\n",
    "    if is_prime_result:\n",
    "        total +=1\n",
    "print(total)"
   ]
  }
 ],
 "metadata": {
  "kernelspec": {
   "display_name": "Python 3 (ipykernel)",
   "language": "python",
   "name": "python3"
  },
  "language_info": {
   "codemirror_mode": {
    "name": "ipython",
    "version": 3
   },
   "file_extension": ".py",
   "mimetype": "text/x-python",
   "name": "python",
   "nbconvert_exporter": "python",
   "pygments_lexer": "ipython3",
   "version": "3.10.9"
  }
 },
 "nbformat": 4,
 "nbformat_minor": 5
}
